{
  "nbformat": 4,
  "nbformat_minor": 0,
  "metadata": {
    "colab": {
      "name": "04_카운트 기반의 단어 표현.ipynb",
      "provenance": [],
      "authorship_tag": "ABX9TyOO58v46PfH2tiffd23LLTU",
      "include_colab_link": true
    },
    "kernelspec": {
      "name": "python3",
      "display_name": "Python 3"
    },
    "language_info": {
      "name": "python"
    }
  },
  "cells": [
    {
      "cell_type": "markdown",
      "metadata": {
        "id": "view-in-github",
        "colab_type": "text"
      },
      "source": [
        "<a href=\"https://colab.research.google.com/github/tnqkrghd/NLP/blob/main/04_%EC%B9%B4%EC%9A%B4%ED%8A%B8_%EA%B8%B0%EB%B0%98%EC%9D%98_%EB%8B%A8%EC%96%B4_%ED%91%9C%ED%98%84.ipynb\" target=\"_parent\"><img src=\"https://colab.research.google.com/assets/colab-badge.svg\" alt=\"Open In Colab\"/></a>"
      ]
    },
    {
      "cell_type": "markdown",
      "metadata": {
        "id": "uTZOfASqCfeW"
      },
      "source": [
        "## **4. 카운트 기반의 단어 표현**"
      ]
    },
    {
      "cell_type": "markdown",
      "metadata": {
        "id": "F8xdQh9xCfY4"
      },
      "source": [
        "### **4.1 다양한 단어의 표현 방법**"
      ]
    },
    {
      "cell_type": "markdown",
      "metadata": {
        "id": "skm4UoA3Cktg"
      },
      "source": [
        "* 단어의 표현 방법은 크게 국소 표현(Local Representation)과 분산 표현(Distributed Representation) 방법으로 나뉜다.\n",
        "\n",
        "* 전자는 해당 단어 그 자체만 보고 특정값을 맵핑하여 단어를 표현하며,\n",
        "\n",
        "  후자는 그 단어를 표현하고자 주변을 참고하여 단어를 표현한다.\n",
        "\n",
        "* 비슷한 의미로 국소 표현을 이산 표현(Discrete Representation)이라고도 하며, \n",
        "\n",
        "  분산 표현을 연속 표현(Continuous Represnetation)이라고도 한다."
      ]
    },
    {
      "cell_type": "markdown",
      "metadata": {
        "id": "Z01DJI6hDLQv"
      },
      "source": [
        "  ![image.png](data:image/png;base64,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)"
      ]
    },
    {
      "cell_type": "markdown",
      "metadata": {
        "id": "fClnaiuSDest"
      },
      "source": [
        "### **4.2 Bag of Words(BoW)**"
      ]
    },
    {
      "cell_type": "markdown",
      "metadata": {
        "id": "NkutPH8aC6I7"
      },
      "source": [
        "* Bag of Words란 단어들의 순서는 전혀 고려하지 않고, 단어들의 **출현 빈도(frequency)에만 집중**하는 텍스트 데이터의 수치화 표현 방법\n",
        "\n",
        "* (1) 각 단어에 고유한 정수 인덱스를 부여\n",
        "\n",
        "  (2) 각 인덱스의 위치에 단어 토큰의 등장 횟수를 기록한 벡터를 생성"
      ]
    },
    {
      "cell_type": "code",
      "metadata": {
        "id": "IOyCIIcVD13K"
      },
      "source": [
        "pip install konlpy"
      ],
      "execution_count": null,
      "outputs": []
    },
    {
      "cell_type": "code",
      "metadata": {
        "id": "gFmiGzq3CVV5"
      },
      "source": [
        "from konlpy.tag import Okt\n",
        "import re\n",
        "\n",
        "okt = Okt()\n",
        "\n",
        "token = re.sub(\"(\\.)\", \"\", \"정부가 발표하는 물가상승률과 소비자가 느끼는 물가상승률은 다르다.\")\n",
        "# 온점 제거\n",
        "\n",
        "token = okt.morphs(token)\n",
        "# 형태소 분석기를 통해 토큰화 작업 수행\n",
        "\n",
        "word2index = {}\n",
        "bow = []\n",
        "for voca in token:\n",
        "  if voca not in word2index.keys():\n",
        "    word2index[voca] = len(word2index)\n",
        "    bow.insert(len(word2index)-1, 1)\n",
        "  else:\n",
        "    index = word2index.get(voca)\n",
        "    bow[index] += 1"
      ],
      "execution_count": 12,
      "outputs": []
    },
    {
      "cell_type": "code",
      "metadata": {
        "colab": {
          "base_uri": "https://localhost:8080/"
        },
        "id": "MkpUurjDFRIs",
        "outputId": "ba414319-0580-4325-e990-cceb50e92ce4"
      },
      "source": [
        "print(word2index)\n",
        "print(bow)"
      ],
      "execution_count": 13,
      "outputs": [
        {
          "output_type": "stream",
          "name": "stdout",
          "text": [
            "{'정부': 0, '가': 1, '발표': 2, '하는': 3, '물가상승률': 4, '과': 5, '소비자': 6, '느끼는': 7, '은': 8, '다르다': 9}\n",
            "[1, 2, 1, 1, 2, 1, 1, 1, 1, 1]\n"
          ]
        }
      ]
    },
    {
      "cell_type": "markdown",
      "metadata": {
        "id": "7NCqLIi_QWtS"
      },
      "source": [
        "* BoW는 각 단어가 등장한 횟수를 수치화하는 텍스트 표현 방법이기 때문에, \n",
        "  \n",
        "  주로 어떤 단어가 얼마나 등장했는지를 기준으로 문서가 어떤 성격의 문서인지를 판단하는 작업에 쓰인다.\n",
        "  - ex) 분류 문제, 여러 문서 간의 유사도를 구하는 문제 "
      ]
    },
    {
      "cell_type": "code",
      "metadata": {
        "colab": {
          "base_uri": "https://localhost:8080/"
        },
        "id": "NIXkHQRNGOTy",
        "outputId": "48b7adab-af88-4b83-e940-cf8392c92ef6"
      },
      "source": [
        "# CountVectorizer 클래스로 BoW 만들기\n",
        "\n",
        "from sklearn.feature_extraction.text import CountVectorizer\n",
        "\n",
        "corpus = ['you know I want your love. because I love you.']\n",
        "vector = CountVectorizer()\n",
        "\n",
        "print(vector.fit_transform(corpus).toarray())\n",
        "print(vector.vocabulary_)\n",
        "# CountVectorizer 는 길이가 2 이상인 문자만 토큰으로 인식하기에 'I' 가 제거된 모습"
      ],
      "execution_count": 19,
      "outputs": [
        {
          "output_type": "stream",
          "name": "stdout",
          "text": [
            "[[1 1 2 1 2 1]]\n",
            "{'you': 4, 'know': 1, 'want': 3, 'your': 5, 'love': 2, 'because': 0}\n"
          ]
        }
      ]
    },
    {
      "cell_type": "markdown",
      "metadata": {
        "id": "hL97sbqjh-yk"
      },
      "source": [
        "* CountVectorizer는 단지 띄어쓰기만을 기준으로 단어를 자르는\n",
        "\n",
        "  낮은 수준의 토큰화를 진행하고 BoW를 만들기에 한국어에선 잘 작동하지 않는다."
      ]
    },
    {
      "cell_type": "code",
      "metadata": {
        "colab": {
          "base_uri": "https://localhost:8080/"
        },
        "id": "8u7GqSwLhkgY",
        "outputId": "d74b3865-9a1c-4af1-fbd7-be5da67bacda"
      },
      "source": [
        "# 불용어를 제거한 Bow 만들기\n",
        "# (1) 직접 정의한 불용어 사용\n",
        "\n",
        "from sklearn.feature_extraction.text import CountVectorizer\n",
        "\n",
        "text = [\"Family is not an important thing. It's everything.\"]\n",
        "vect = CountVectorizer(stop_words=[\"the\", \"a\", \"an\", \"is\", \"not\"])\n",
        "\n",
        "print(vect.fit_transform(text).toarray())\n",
        "print(vect.vocabulary_)"
      ],
      "execution_count": 24,
      "outputs": [
        {
          "output_type": "stream",
          "name": "stdout",
          "text": [
            "[[1 1 1 1 1]]\n",
            "{'family': 1, 'important': 2, 'thing': 4, 'it': 3, 'everything': 0}\n"
          ]
        }
      ]
    },
    {
      "cell_type": "code",
      "metadata": {
        "colab": {
          "base_uri": "https://localhost:8080/"
        },
        "id": "B4i0YjbDiTN1",
        "outputId": "84d25641-09d4-42e8-ad68-7a508f464909"
      },
      "source": [
        "# (2) CountVectorizer 에서 제공하는 자체 불용어 사용\n",
        "\n",
        "text=[\"Family is not an important thing. It's everything.\"]\n",
        "vect = CountVectorizer(stop_words=\"english\")\n",
        "\n",
        "print(vect.fit_transform(text).toarray())\n",
        "print(vect.vocabulary_)"
      ],
      "execution_count": 26,
      "outputs": [
        {
          "output_type": "stream",
          "name": "stdout",
          "text": [
            "[[1 1 1]]\n",
            "{'family': 0, 'important': 1, 'thing': 2}\n"
          ]
        }
      ]
    },
    {
      "cell_type": "code",
      "metadata": {
        "id": "hM8J1vr9i9rV"
      },
      "source": [
        "import nltk\n",
        "nltk.download('stopwords')"
      ],
      "execution_count": null,
      "outputs": []
    },
    {
      "cell_type": "code",
      "metadata": {
        "colab": {
          "base_uri": "https://localhost:8080/"
        },
        "id": "tjcnf9K2iqoo",
        "outputId": "03b4a234-5926-4531-bead-c19581be38a8"
      },
      "source": [
        "# (3) NLTK 에서 지원하는 불용어 사용\n",
        "from sklearn.feature_extraction.text import CountVectorizer\n",
        "from nltk.corpus import stopwords\n",
        "\n",
        "text=[\"Family is not an important thing. It's everything.\"]\n",
        "sw = stopwords.words(\"english\")\n",
        "vect = CountVectorizer(stop_words=sw)\n",
        "\n",
        "print(vect.fit_transform(text).toarray()) \n",
        "print(vect.vocabulary_)"
      ],
      "execution_count": 32,
      "outputs": [
        {
          "output_type": "stream",
          "name": "stdout",
          "text": [
            "[[1 1 1 1]]\n",
            "{'family': 1, 'important': 2, 'thing': 3, 'everything': 0}\n"
          ]
        }
      ]
    },
    {
      "cell_type": "code",
      "metadata": {
        "id": "N6O71IetiwoN"
      },
      "source": [
        ""
      ],
      "execution_count": null,
      "outputs": []
    }
  ]
}
{
  "nbformat": 4,
  "nbformat_minor": 0,
  "metadata": {
    "colab": {
      "name": "DNA Sequencing.ipynb",
      "provenance": [],
      "mount_file_id": "1Y_dyWoLu96fnPcIFuTjRxcY7NYvA4TXq",
      "authorship_tag": "ABX9TyN6tYUu9uzyyc7A99lOmxje",
      "include_colab_link": true
    },
    "kernelspec": {
      "name": "python3",
      "display_name": "Python 3"
    },
    "language_info": {
      "name": "python"
    }
  },
  "cells": [
    {
      "cell_type": "markdown",
      "metadata": {
        "id": "view-in-github",
        "colab_type": "text"
      },
      "source": [
        "<a href=\"https://colab.research.google.com/github/tnqkrghd/NLP/blob/main/DNA_Sequencing.ipynb\" target=\"_parent\"><img src=\"https://colab.research.google.com/assets/colab-badge.svg\" alt=\"Open In Colab\"/></a>"
      ]
    },
    {
      "cell_type": "markdown",
      "metadata": {
        "id": "jMvwekch1aCB"
      },
      "source": [
        "### 머신러닝을 이용한 DNA Sequencing \n",
        "\n",
        "* DNA 시퀀스를 통해 유전자의 기능을 예측하는 분류(Classification) 모델 만들기\n",
        "\n",
        "* https://github.com/krishnaik06/DNA-Sequencing-Classifier/blob/master/DNA%20Sequencing%20and%20applying%20Classifier.ipynb"
      ]
    },
    {
      "cell_type": "markdown",
      "metadata": {
        "id": "qY74e1Ku8i91"
      },
      "source": [
        "#### 1) 데이터 불러오기\n"
      ]
    },
    {
      "cell_type": "code",
      "metadata": {
        "id": "M1-tMeVrmeFY"
      },
      "source": [
        "import numpy as np\n",
        "import pandas as pd\n",
        "import matplotlib.pyplot as plt\n",
        "%matplotlib inline"
      ],
      "execution_count": 88,
      "outputs": []
    },
    {
      "cell_type": "code",
      "metadata": {
        "colab": {
          "base_uri": "https://localhost:8080/",
          "height": 204
        },
        "id": "QZybeEsYmnNP",
        "outputId": "4080b3c3-3027-45c8-93c4-b785ccbbd9ff"
      },
      "source": [
        "human_data = pd.read_table(\"human_data.txt\")\n",
        "human_data.head()"
      ],
      "execution_count": 89,
      "outputs": [
        {
          "output_type": "execute_result",
          "data": {
            "text/html": [
              "<div>\n",
              "<style scoped>\n",
              "    .dataframe tbody tr th:only-of-type {\n",
              "        vertical-align: middle;\n",
              "    }\n",
              "\n",
              "    .dataframe tbody tr th {\n",
              "        vertical-align: top;\n",
              "    }\n",
              "\n",
              "    .dataframe thead th {\n",
              "        text-align: right;\n",
              "    }\n",
              "</style>\n",
              "<table border=\"1\" class=\"dataframe\">\n",
              "  <thead>\n",
              "    <tr style=\"text-align: right;\">\n",
              "      <th></th>\n",
              "      <th>sequence</th>\n",
              "      <th>class</th>\n",
              "    </tr>\n",
              "  </thead>\n",
              "  <tbody>\n",
              "    <tr>\n",
              "      <th>0</th>\n",
              "      <td>ATGCCCCAACTAAATACTACCGTATGGCCCACCATAATTACCCCCA...</td>\n",
              "      <td>4</td>\n",
              "    </tr>\n",
              "    <tr>\n",
              "      <th>1</th>\n",
              "      <td>ATGAACGAAAATCTGTTCGCTTCATTCATTGCCCCCACAATCCTAG...</td>\n",
              "      <td>4</td>\n",
              "    </tr>\n",
              "    <tr>\n",
              "      <th>2</th>\n",
              "      <td>ATGTGTGGCATTTGGGCGCTGTTTGGCAGTGATGATTGCCTTTCTG...</td>\n",
              "      <td>3</td>\n",
              "    </tr>\n",
              "    <tr>\n",
              "      <th>3</th>\n",
              "      <td>ATGTGTGGCATTTGGGCGCTGTTTGGCAGTGATGATTGCCTTTCTG...</td>\n",
              "      <td>3</td>\n",
              "    </tr>\n",
              "    <tr>\n",
              "      <th>4</th>\n",
              "      <td>ATGCAACAGCATTTTGAATTTGAATACCAGACCAAAGTGGATGGTG...</td>\n",
              "      <td>3</td>\n",
              "    </tr>\n",
              "  </tbody>\n",
              "</table>\n",
              "</div>"
            ],
            "text/plain": [
              "                                            sequence  class\n",
              "0  ATGCCCCAACTAAATACTACCGTATGGCCCACCATAATTACCCCCA...      4\n",
              "1  ATGAACGAAAATCTGTTCGCTTCATTCATTGCCCCCACAATCCTAG...      4\n",
              "2  ATGTGTGGCATTTGGGCGCTGTTTGGCAGTGATGATTGCCTTTCTG...      3\n",
              "3  ATGTGTGGCATTTGGGCGCTGTTTGGCAGTGATGATTGCCTTTCTG...      3\n",
              "4  ATGCAACAGCATTTTGAATTTGAATACCAGACCAAAGTGGATGGTG...      3"
            ]
          },
          "metadata": {
            "tags": []
          },
          "execution_count": 89
        }
      ]
    },
    {
      "cell_type": "code",
      "metadata": {
        "colab": {
          "base_uri": "https://localhost:8080/",
          "height": 204
        },
        "id": "p2MiWJbqnrnT",
        "outputId": "52fcbe11-1852-437d-c66f-d5371b34ef2f"
      },
      "source": [
        "chimp_data = pd.read_table('chimp_data.txt')\n",
        "chimp_data.head()"
      ],
      "execution_count": 90,
      "outputs": [
        {
          "output_type": "execute_result",
          "data": {
            "text/html": [
              "<div>\n",
              "<style scoped>\n",
              "    .dataframe tbody tr th:only-of-type {\n",
              "        vertical-align: middle;\n",
              "    }\n",
              "\n",
              "    .dataframe tbody tr th {\n",
              "        vertical-align: top;\n",
              "    }\n",
              "\n",
              "    .dataframe thead th {\n",
              "        text-align: right;\n",
              "    }\n",
              "</style>\n",
              "<table border=\"1\" class=\"dataframe\">\n",
              "  <thead>\n",
              "    <tr style=\"text-align: right;\">\n",
              "      <th></th>\n",
              "      <th>sequence</th>\n",
              "      <th>class</th>\n",
              "    </tr>\n",
              "  </thead>\n",
              "  <tbody>\n",
              "    <tr>\n",
              "      <th>0</th>\n",
              "      <td>ATGCCCCAACTAAATACCGCCGTATGACCCACCATAATTACCCCCA...</td>\n",
              "      <td>4</td>\n",
              "    </tr>\n",
              "    <tr>\n",
              "      <th>1</th>\n",
              "      <td>ATGAACGAAAATCTATTCGCTTCATTCGCTGCCCCCACAATCCTAG...</td>\n",
              "      <td>4</td>\n",
              "    </tr>\n",
              "    <tr>\n",
              "      <th>2</th>\n",
              "      <td>ATGGCCTCGCGCTGGTGGCGGTGGCGACGCGGCTGCTCCTGGAGGC...</td>\n",
              "      <td>4</td>\n",
              "    </tr>\n",
              "    <tr>\n",
              "      <th>3</th>\n",
              "      <td>ATGGCCTCGCGCTGGTGGCGGTGGCGACGCGGCTGCTCCTGGAGGC...</td>\n",
              "      <td>4</td>\n",
              "    </tr>\n",
              "    <tr>\n",
              "      <th>4</th>\n",
              "      <td>ATGGGCAGCGCCAGCCCGGGTCTGAGCAGCGTGTCCCCCAGCCACC...</td>\n",
              "      <td>6</td>\n",
              "    </tr>\n",
              "  </tbody>\n",
              "</table>\n",
              "</div>"
            ],
            "text/plain": [
              "                                            sequence  class\n",
              "0  ATGCCCCAACTAAATACCGCCGTATGACCCACCATAATTACCCCCA...      4\n",
              "1  ATGAACGAAAATCTATTCGCTTCATTCGCTGCCCCCACAATCCTAG...      4\n",
              "2  ATGGCCTCGCGCTGGTGGCGGTGGCGACGCGGCTGCTCCTGGAGGC...      4\n",
              "3  ATGGCCTCGCGCTGGTGGCGGTGGCGACGCGGCTGCTCCTGGAGGC...      4\n",
              "4  ATGGGCAGCGCCAGCCCGGGTCTGAGCAGCGTGTCCCCCAGCCACC...      6"
            ]
          },
          "metadata": {
            "tags": []
          },
          "execution_count": 90
        }
      ]
    },
    {
      "cell_type": "code",
      "metadata": {
        "colab": {
          "base_uri": "https://localhost:8080/",
          "height": 204
        },
        "id": "n4v7Tl9Un8ub",
        "outputId": "16d71dcd-d7a8-4e43-989e-10fc861a597c"
      },
      "source": [
        "dog_data = pd.read_table('dog_data.txt')\n",
        "dog_data.head()"
      ],
      "execution_count": 91,
      "outputs": [
        {
          "output_type": "execute_result",
          "data": {
            "text/html": [
              "<div>\n",
              "<style scoped>\n",
              "    .dataframe tbody tr th:only-of-type {\n",
              "        vertical-align: middle;\n",
              "    }\n",
              "\n",
              "    .dataframe tbody tr th {\n",
              "        vertical-align: top;\n",
              "    }\n",
              "\n",
              "    .dataframe thead th {\n",
              "        text-align: right;\n",
              "    }\n",
              "</style>\n",
              "<table border=\"1\" class=\"dataframe\">\n",
              "  <thead>\n",
              "    <tr style=\"text-align: right;\">\n",
              "      <th></th>\n",
              "      <th>sequence</th>\n",
              "      <th>class</th>\n",
              "    </tr>\n",
              "  </thead>\n",
              "  <tbody>\n",
              "    <tr>\n",
              "      <th>0</th>\n",
              "      <td>ATGCCACAGCTAGATACATCCACCTGATTTATTATAATCTTTTCAA...</td>\n",
              "      <td>4</td>\n",
              "    </tr>\n",
              "    <tr>\n",
              "      <th>1</th>\n",
              "      <td>ATGAACGAAAATCTATTCGCTTCTTTCGCTGCCCCCTCAATAATAG...</td>\n",
              "      <td>4</td>\n",
              "    </tr>\n",
              "    <tr>\n",
              "      <th>2</th>\n",
              "      <td>ATGGAAACACCCTTCTACGGCGATGAGGCGCTGAGCGGCCTGGGCG...</td>\n",
              "      <td>6</td>\n",
              "    </tr>\n",
              "    <tr>\n",
              "      <th>3</th>\n",
              "      <td>ATGTGCACTAAAATGGAACAGCCCTTCTACCACGACGACTCATACG...</td>\n",
              "      <td>6</td>\n",
              "    </tr>\n",
              "    <tr>\n",
              "      <th>4</th>\n",
              "      <td>ATGAGCCGGCAGCTAAACAGAAGCCAGAACTGCTCCTTCAGTGACG...</td>\n",
              "      <td>0</td>\n",
              "    </tr>\n",
              "  </tbody>\n",
              "</table>\n",
              "</div>"
            ],
            "text/plain": [
              "                                            sequence  class\n",
              "0  ATGCCACAGCTAGATACATCCACCTGATTTATTATAATCTTTTCAA...      4\n",
              "1  ATGAACGAAAATCTATTCGCTTCTTTCGCTGCCCCCTCAATAATAG...      4\n",
              "2  ATGGAAACACCCTTCTACGGCGATGAGGCGCTGAGCGGCCTGGGCG...      6\n",
              "3  ATGTGCACTAAAATGGAACAGCCCTTCTACCACGACGACTCATACG...      6\n",
              "4  ATGAGCCGGCAGCTAAACAGAAGCCAGAACTGCTCCTTCAGTGACG...      0"
            ]
          },
          "metadata": {
            "tags": []
          },
          "execution_count": 91
        }
      ]
    },
    {
      "cell_type": "markdown",
      "metadata": {
        "id": "5muarwLD8zqg"
      },
      "source": [
        "#### 2) 데이터 전처리"
      ]
    },
    {
      "cell_type": "markdown",
      "metadata": {
        "id": "EgD-okqIoZPB"
      },
      "source": [
        "* 주어진 데이터들을 분류 또는 회귀 모델의 입력으로 사용하기 위해선 고정된 길이의 벡터로 만들 필요가 있습니다.\n",
        "\n",
        "* 이를 위해 우리는 DNA 시퀀스를 마치 언어처럼 다루려 합니다.\n",
        "\n",
        "* 하나의 긴 시퀀스를 k-mer 길이의 \"words\" 로 분리합니다.\n",
        "\n",
        "* 예를 들어, 'ATGCATGCA'를 길이가 6인 \"words\"(=hexamers)로 분리하면\n",
        "\n",
        "    'ATGCAT', 'TGCATG', 'GCATGC', 'CATGCA'\n",
        "\n",
        "* 이러한 처리를 유전학에서는 \"k-mer counting\" 이라고 합니다.\n"
      ]
    },
    {
      "cell_type": "code",
      "metadata": {
        "id": "oLEGvI0fn_U1"
      },
      "source": [
        "# DNA 시퀀스를 지정한 길이(size)의 k-mer \"words\" 로 바꾸는 함수\n",
        "\n",
        "def getKmers(sequence, size=6):\n",
        "  return [sequence[x:x+size].lower() for x in range(len(sequence)-size+1)]"
      ],
      "execution_count": 92,
      "outputs": []
    },
    {
      "cell_type": "code",
      "metadata": {
        "colab": {
          "base_uri": "https://localhost:8080/"
        },
        "id": "2ZQk0Xuoqmr7",
        "outputId": "eca75d94-8d63-4d79-d349-82c3bb7b79a6"
      },
      "source": [
        "# 예시) AGCTTTAA \n",
        "# -> AGCTTT / GCTTTA / CTTTAA : 8-6+1 = 3개의 hexamers\n",
        "example = 'AGCTTTAA'\n",
        "\n",
        "print([example[x:x+6] for x in range(len(ex)-6+1)])"
      ],
      "execution_count": 93,
      "outputs": [
        {
          "output_type": "stream",
          "text": [
            "['AGCTTT', 'GCTTTA', 'CTTTAA']\n"
          ],
          "name": "stdout"
        }
      ]
    },
    {
      "cell_type": "code",
      "metadata": {
        "id": "rJ1l4ZADrApL"
      },
      "source": [
        "# 훈련 데이터를 길이 6의 k-mers(=hexamers) 로 바꾸는 과정\n",
        "\n",
        "human_data['words'] = human_data.apply(lambda x: getKmers(x['sequence']), axis=1)\n",
        "human_data = human_data.drop('sequence', axis=1)\n",
        "\n",
        "chimp_data['words'] = chimp_data.apply(lambda x: getKmers(x['sequence']), axis=1)\n",
        "chimp_data = chimp_data.drop('sequence', axis=1)\n",
        "\n",
        "dog_data['words'] = dog_data.apply(lambda x: getKmers(x['sequence']), axis=1)\n",
        "dog_data = dog_data.drop('sequence', axis=1)"
      ],
      "execution_count": 94,
      "outputs": []
    },
    {
      "cell_type": "code",
      "metadata": {
        "colab": {
          "base_uri": "https://localhost:8080/",
          "height": 204
        },
        "id": "Tt4MNslMsJus",
        "outputId": "4083eb00-cfdc-49c9-e4be-7fd4f172f838"
      },
      "source": [
        "human_data.head()"
      ],
      "execution_count": 95,
      "outputs": [
        {
          "output_type": "execute_result",
          "data": {
            "text/html": [
              "<div>\n",
              "<style scoped>\n",
              "    .dataframe tbody tr th:only-of-type {\n",
              "        vertical-align: middle;\n",
              "    }\n",
              "\n",
              "    .dataframe tbody tr th {\n",
              "        vertical-align: top;\n",
              "    }\n",
              "\n",
              "    .dataframe thead th {\n",
              "        text-align: right;\n",
              "    }\n",
              "</style>\n",
              "<table border=\"1\" class=\"dataframe\">\n",
              "  <thead>\n",
              "    <tr style=\"text-align: right;\">\n",
              "      <th></th>\n",
              "      <th>class</th>\n",
              "      <th>words</th>\n",
              "    </tr>\n",
              "  </thead>\n",
              "  <tbody>\n",
              "    <tr>\n",
              "      <th>0</th>\n",
              "      <td>4</td>\n",
              "      <td>[atgccc, tgcccc, gcccca, ccccaa, cccaac, ccaac...</td>\n",
              "    </tr>\n",
              "    <tr>\n",
              "      <th>1</th>\n",
              "      <td>4</td>\n",
              "      <td>[atgaac, tgaacg, gaacga, aacgaa, acgaaa, cgaaa...</td>\n",
              "    </tr>\n",
              "    <tr>\n",
              "      <th>2</th>\n",
              "      <td>3</td>\n",
              "      <td>[atgtgt, tgtgtg, gtgtgg, tgtggc, gtggca, tggca...</td>\n",
              "    </tr>\n",
              "    <tr>\n",
              "      <th>3</th>\n",
              "      <td>3</td>\n",
              "      <td>[atgtgt, tgtgtg, gtgtgg, tgtggc, gtggca, tggca...</td>\n",
              "    </tr>\n",
              "    <tr>\n",
              "      <th>4</th>\n",
              "      <td>3</td>\n",
              "      <td>[atgcaa, tgcaac, gcaaca, caacag, aacagc, acagc...</td>\n",
              "    </tr>\n",
              "  </tbody>\n",
              "</table>\n",
              "</div>"
            ],
            "text/plain": [
              "   class                                              words\n",
              "0      4  [atgccc, tgcccc, gcccca, ccccaa, cccaac, ccaac...\n",
              "1      4  [atgaac, tgaacg, gaacga, aacgaa, acgaaa, cgaaa...\n",
              "2      3  [atgtgt, tgtgtg, gtgtgg, tgtggc, gtggca, tggca...\n",
              "3      3  [atgtgt, tgtgtg, gtgtgg, tgtggc, gtggca, tggca...\n",
              "4      3  [atgcaa, tgcaac, gcaaca, caacag, aacagc, acagc..."
            ]
          },
          "metadata": {
            "tags": []
          },
          "execution_count": 95
        }
      ]
    },
    {
      "cell_type": "markdown",
      "metadata": {
        "id": "RBTfNrrTs931"
      },
      "source": [
        "* 각 데이터(=유전자)마다 생성된 lists of k-mers를 sentences of words로 바꿔서 CountVectorizer를 사용할 수 있게끔 합니다.\n",
        "\n",
        "* y_data는 class_labels 를 담는 용도로 사용합니다."
      ]
    },
    {
      "cell_type": "code",
      "metadata": {
        "id": "OXWCEjiss0Hv"
      },
      "source": [
        "human_texts = list(human_data['words'])\n",
        "for item in range(len(human_texts)):\n",
        "  human_texts[item] = ' '.join(human_texts[item])\n",
        "\n",
        "y_data = human_data.iloc[:,0].values"
      ],
      "execution_count": 96,
      "outputs": []
    },
    {
      "cell_type": "code",
      "metadata": {
        "id": "V08JvRbAtfvW",
        "colab": {
          "base_uri": "https://localhost:8080/"
        },
        "outputId": "c83432da-ee9f-4b2d-e6a9-f1638890f6a8"
      },
      "source": [
        "print(human_texts[0])"
      ],
      "execution_count": 97,
      "outputs": [
        {
          "output_type": "stream",
          "text": [
            "atgccc tgcccc gcccca ccccaa cccaac ccaact caacta aactaa actaaa ctaaat taaata aaatac aatact atacta tactac actacc ctaccg taccgt accgta ccgtat cgtatg gtatgg tatggc atggcc tggccc ggccca gcccac cccacc ccacca caccat accata ccataa cataat ataatt taatta aattac attacc ttaccc tacccc accccc ccccca ccccat cccata ccatac catact atactc tactcc actcct ctcctt tcctta ccttac cttaca ttacac tacact acacta cactat actatt ctattc tattcc attcct ttcctc tcctca cctcat ctcatc tcatca catcac atcacc tcaccc caccca acccaa cccaac ccaact caacta aactaa actaaa ctaaaa taaaaa aaaaat aaaata aaatat aatatt atatta tattaa attaaa ttaaac taaaca aaacac aacaca acacaa cacaaa acaaac caaact aaacta aactac actacc ctacca taccac accacc ccacct caccta acctac cctacc ctacct tacctc acctcc cctccc ctccct tccctc ccctca cctcac ctcacc tcacca caccaa accaaa ccaaag caaagc aaagcc aagccc agccca gcccat cccata ccataa cataaa ataaaa taaaaa aaaaat aaaata aaataa aataaa ataaaa taaaaa aaaaaa aaaaat aaaatt aaatta aattat attata ttataa tataac ataaca taacaa aacaaa acaaac caaacc aaaccc aaccct accctg ccctga cctgag ctgaga tgagaa gagaac agaacc gaacca aaccaa accaaa ccaaaa caaaat aaaatg aaatga aatgaa atgaac tgaacg gaacga aacgaa acgaaa cgaaaa gaaaat aaaatc aaatct aatctg atctgt tctgtt ctgttc tgttcg gttcgc ttcgct tcgctt cgcttc gcttca cttcat ttcatt tcattc cattca attcat ttcatt tcattg cattgc attgcc ttgccc tgcccc gccccc ccccca ccccac cccaca ccacaa cacaat acaatc caatcc aatcct atccta tcctag\n"
          ],
          "name": "stdout"
        }
      ]
    },
    {
      "cell_type": "code",
      "metadata": {
        "id": "n3Y4H2aauJry",
        "outputId": "e91f6d3c-a38a-4b6f-d608-61794531835c",
        "colab": {
          "base_uri": "https://localhost:8080/"
        }
      },
      "source": [
        "y_data  # class_labels"
      ],
      "execution_count": 98,
      "outputs": [
        {
          "output_type": "execute_result",
          "data": {
            "text/plain": [
              "array([4, 4, 3, ..., 6, 6, 6])"
            ]
          },
          "metadata": {
            "tags": []
          },
          "execution_count": 98
        }
      ]
    },
    {
      "cell_type": "code",
      "metadata": {
        "id": "qqWcPJjkuj6k"
      },
      "source": [
        "# chimp/dog data 에 대해서도 동일한 작업 수행\n",
        "\n",
        "chimp_texts = list(chimp_data['words'])\n",
        "for item in range(len(chimp_texts)):\n",
        "  chimp_texts[item] = ' '.join(chimp_texts[item])\n",
        "\n",
        "y_chimp = chimp_data.iloc[:, 0].values\n",
        "\n",
        "dog_texts = list(dog_data['words'])\n",
        "for item in range(len(dog_texts)):\n",
        "  dog_texts[item] = ' '.join(dog_texts[item])\n",
        "\n",
        "y_dog = dog_data.iloc[:, 0].values"
      ],
      "execution_count": 99,
      "outputs": []
    },
    {
      "cell_type": "code",
      "metadata": {
        "id": "rNkqBeQSu9Hm"
      },
      "source": [
        "# CountVectorizer 를 통해 BOW 생성\n",
        "# n_gram size 인 4는 param_tuning 으로 사전에 구해진 값\n",
        "\n",
        "from sklearn.feature_extraction.text import CountVectorizer\n",
        "\n",
        "cv = CountVectorizer(ngram_range=(4,4))\n",
        "x = cv.fit_transform(human_texts)\n",
        "x_chimp = cv.fit_transform(chimp_texts)\n",
        "x_dog = cv.fit_transform(dog_texts)"
      ],
      "execution_count": 100,
      "outputs": []
    },
    {
      "cell_type": "code",
      "metadata": {
        "id": "ApoCnqg0vd8P",
        "outputId": "fc02c1fa-8fa3-4fb5-f978-d9f75c643fab",
        "colab": {
          "base_uri": "https://localhost:8080/"
        }
      },
      "source": [
        "print(x.shape)\n",
        "print(x_chimp.shape)\n",
        "print(x_dog.shape)"
      ],
      "execution_count": 101,
      "outputs": [
        {
          "output_type": "stream",
          "text": [
            "(4380, 232414)\n",
            "(1682, 229684)\n",
            "(820, 227149)\n"
          ],
          "name": "stdout"
        }
      ]
    },
    {
      "cell_type": "code",
      "metadata": {
        "id": "WFwAtWTzvump",
        "outputId": "ec26edc8-ed72-441c-eb7b-ce76d02cd3d3",
        "colab": {
          "base_uri": "https://localhost:8080/",
          "height": 281
        }
      },
      "source": [
        "# 비교적 균형잡인 데이터셋\n",
        "\n",
        "human_data['class'].value_counts().sort_index().plot.bar()"
      ],
      "execution_count": 103,
      "outputs": [
        {
          "output_type": "execute_result",
          "data": {
            "text/plain": [
              "<matplotlib.axes._subplots.AxesSubplot at 0x7fd39cb85e50>"
            ]
          },
          "metadata": {
            "tags": []
          },
          "execution_count": 103
        },
        {
          "output_type": "display_data",
          "data": {
            "image/png": "[encoded data removed]",
            "text/plain": [
              "<Figure size 432x288 with 1 Axes>"
            ]
          },
          "metadata": {
            "tags": [],
            "needs_background": "light"
          }
        }
      ]
    },
    {
      "cell_type": "code",
      "metadata": {
        "id": "91Gx6oxyv7ip"
      },
      "source": [
        "# human 데이터셋을 훈련/테스트셋으로 분리\n",
        "\n",
        "from sklearn.model_selection import train_test_split\n",
        "\n",
        "X_train, X_test, y_train, y_test = train_test_split(x, y_data,\n",
        "                                                    test_size=0.20,\n",
        "                                                    random_state=42)"
      ],
      "execution_count": 104,
      "outputs": []
    },
    {
      "cell_type": "code",
      "metadata": {
        "id": "kasRGudNwyBy",
        "outputId": "b8aa293d-1dfc-4291-dca4-7832047e4429",
        "colab": {
          "base_uri": "https://localhost:8080/"
        }
      },
      "source": [
        "print(X_train.shape)\n",
        "print(X_test.shape)"
      ],
      "execution_count": 105,
      "outputs": [
        {
          "output_type": "stream",
          "text": [
            "(3504, 232414)\n",
            "(876, 232414)\n"
          ],
          "name": "stdout"
        }
      ]
    },
    {
      "cell_type": "code",
      "metadata": {
        "id": "-lLgyup89Qu4"
      },
      "source": [
        "# chimp/dog 데이터셋을 훈련/테스트셋으로 분리\n",
        "X_chimp_train, X_chimp_test, y_chimp_train, y_chimp_test = train_test_split(\n",
        "                                                            x_chimp, y_chimp,\n",
        "                                                            test_size=0.20,\n",
        "                                                            random_state=42)\n",
        "\n",
        "X_dog_train, X_dog_test, y_dog_train, y_dog_test = train_test_split(\n",
        "                                                      x_dog, y_dog,\n",
        "                                                      test_size=0.20,\n",
        "                                                      random_state=42)"
      ],
      "execution_count": 119,
      "outputs": []
    },
    {
      "cell_type": "code",
      "metadata": {
        "id": "Sv_nC0TN9XS0",
        "outputId": "ed12d459-ebce-4324-c36e-182bfbc1a424",
        "colab": {
          "base_uri": "https://localhost:8080/"
        }
      },
      "source": [
        "print('X_chimp')\n",
        "print(X_chimp_train.shape)\n",
        "print(X_chimp_test.shape)\n",
        "\n",
        "print('\\nX_dog')\n",
        "print(X_dog_train.shape)\n",
        "print(X_dog_test.shape)"
      ],
      "execution_count": 120,
      "outputs": [
        {
          "output_type": "stream",
          "text": [
            "X_chimp\n",
            "(1345, 229684)\n",
            "(337, 229684)\n",
            "\n",
            "X_dog\n",
            "(656, 227149)\n",
            "(164, 227149)\n"
          ],
          "name": "stdout"
        }
      ]
    },
    {
      "cell_type": "markdown",
      "metadata": {
        "id": "oBfvs-EJ9Bun"
      },
      "source": [
        "#### 3) 분류 모델 생성 - human / chimp / dog"
      ]
    },
    {
      "cell_type": "code",
      "metadata": {
        "id": "m5U88IV-w6Td",
        "outputId": "cc3e9172-4fbf-45e3-e597-6517247475fc",
        "colab": {
          "base_uri": "https://localhost:8080/"
        }
      },
      "source": [
        "# Multinomial Naive Bayes Classifier\n",
        "# Grid Search 로 사전에 탐색된 alpha 값 사용\n",
        "\n",
        "from sklearn.naive_bayes import MultinomialNB\n",
        "\n",
        "# human\n",
        "classifier = MultinomialNB(alpha=0.1) # \n",
        "classifier.fit(X_train, y_train)\n",
        "\n",
        "y_pred = classifier.predict(X_test)"
      ],
      "execution_count": 106,
      "outputs": [
        {
          "output_type": "execute_result",
          "data": {
            "text/plain": [
              "MultinomialNB(alpha=0.1, class_prior=None, fit_prior=True)"
            ]
          },
          "metadata": {
            "tags": []
          },
          "execution_count": 106
        }
      ]
    },
    {
      "cell_type": "code",
      "metadata": {
        "id": "RYmZBVjG6nvv"
      },
      "source": [
        "# chimp\n",
        "classifier_chimp = MultinomialNB(alpha=0.1)\n",
        "classifier_chimp.fit(X_chimp_train, y_chimp_train)\n",
        "\n",
        "y_chimp_pred = classifier_chimp.predict(X_chimp_test)\n",
        "\n",
        "# dog\n",
        "classifier_dog = MultinomialNB(alpha=0.1)\n",
        "classifier_dog.fit(X_dog_train, y_dog_train)\n",
        "\n",
        "y_dog_pred = classifier_dog.predict(X_dog_test)"
      ],
      "execution_count": null,
      "outputs": []
    },
    {
      "cell_type": "markdown",
      "metadata": {
        "id": "IIoH-gKq9y3u"
      },
      "source": [
        "#### 4) 성능 평가"
      ]
    },
    {
      "cell_type": "code",
      "metadata": {
        "id": "YrzeerXkxOlm"
      },
      "source": [
        "from sklearn.metrics import accuracy_score, f1_score, precision_score, recall_score\n",
        "\n",
        "def get_metrics(y_test, y_predicted):\n",
        "  accuracy = accuracy_score(y_test, y_predicted)\n",
        "  precision = precision_score(y_test, y_predicted, average='weighted')\n",
        "  recall = recall_score(y_test, y_predicted, average='weighted')\n",
        "  f1 = f1_score(y_test, y_predicted, average='weighted')\n",
        "  return accuracy, precision, recall, f1"
      ],
      "execution_count": 123,
      "outputs": []
    },
    {
      "cell_type": "code",
      "metadata": {
        "id": "LKJRipiu-F1f",
        "outputId": "8501e350-1fea-4122-d805-ecc8530b2b6d",
        "colab": {
          "base_uri": "https://localhost:8080/"
        }
      },
      "source": [
        "print(\"Human : Confusion matrix\\n\")\n",
        "print(pd.crosstab(pd.Series(y_test, name='Actual'), pd.Series(y_pred, name='Predicted')))\n",
        "\n",
        "accuracy, precision, recall, f1 = get_metrics(y_test, y_pred)\n",
        "print(\"\\nacc = %.3f \\nprecision = %.3f \\nrecall = %.3f \\nf1 = %.3f\" % (accuracy, precision, recall, f1))"
      ],
      "execution_count": 124,
      "outputs": [
        {
          "output_type": "stream",
          "text": [
            "Human : Confusion matrix\n",
            "\n",
            "Predicted   0    1   2    3    4   5    6\n",
            "Actual                                   \n",
            "0          99    0   0    0    1   0    2\n",
            "1           0  104   0    0    0   0    2\n",
            "2           0    0  78    0    0   0    0\n",
            "3           0    0   0  124    0   0    1\n",
            "4           1    0   0    0  143   0    5\n",
            "5           0    0   0    0    0  51    0\n",
            "6           1    0   0    1    0   0  263\n",
            "\n",
            "acc = 0.984 \n",
            "precision = 0.984 \n",
            "recall = 0.984 \n",
            "f1 = 0.984\n"
          ],
          "name": "stdout"
        }
      ]
    },
    {
      "cell_type": "code",
      "metadata": {
        "id": "7PQ-mZRZ78d7",
        "outputId": "c419261f-114d-49ef-815c-928d5c9b8f85",
        "colab": {
          "base_uri": "https://localhost:8080/"
        }
      },
      "source": [
        "print(\"Chimp : Confusion matrix\\n\")\n",
        "print(pd.crosstab(pd.Series(y_chimp_test, name='Actual'), pd.Series(y_chimp_pred, name='Predicted')))\n",
        "\n",
        "accuracy, precision, recall, f1 = get_metrics(y_chimp_test, y_chimp_pred)\n",
        "print(\"\\nacc = %.3f \\nprecision = %.3f \\nrecall = %.3f \\nf1 = %.3f\" % (accuracy, precision, recall, f1))"
      ],
      "execution_count": 125,
      "outputs": [
        {
          "output_type": "stream",
          "text": [
            "Chimp : Confusion matrix\n",
            "\n",
            "Predicted   0   1   2   3   4   5    6\n",
            "Actual                                \n",
            "0          27   0   0   0   0   0    1\n",
            "1           0  38   0   0   0   0    1\n",
            "2           0   0  25   0   0   0    2\n",
            "3           0   0   0  41   0   0    2\n",
            "4           2   1   0   3  40   0    6\n",
            "5           3   0   0   0   3  19    4\n",
            "6           0   0   0   1   0   0  118\n",
            "\n",
            "acc = 0.914 \n",
            "precision = 0.920 \n",
            "recall = 0.914 \n",
            "f1 = 0.911\n"
          ],
          "name": "stdout"
        }
      ]
    },
    {
      "cell_type": "code",
      "metadata": {
        "id": "URXlcJHK8E1y",
        "outputId": "0e3048f1-a47a-43a2-9ee5-0a67a57cad3a",
        "colab": {
          "base_uri": "https://localhost:8080/"
        }
      },
      "source": [
        "print(\"Dog : Confusion matrix\\n\")\n",
        "print(pd.crosstab(pd.Series(y_dog_test, name='Actual'), pd.Series(y_dog_pred, name='Predicted')))\n",
        "\n",
        "accuracy, precision, recall, f1 = get_metrics(y_dog_test, y_dog_pred)\n",
        "print(\"\\nacc = %.3f \\nprecision = %.3f \\nrecall = %.3f \\nf1 = %.3f\" % (accuracy, precision, recall, f1))"
      ],
      "execution_count": 126,
      "outputs": [
        {
          "output_type": "stream",
          "text": [
            "Dog : Confusion matrix\n",
            "\n",
            "Predicted   0   1   2  3  4  5   6\n",
            "Actual                            \n",
            "0          21   0   0  0  0  0   6\n",
            "1           2  12   0  0  0  0   5\n",
            "2           1   0  10  0  0  0   3\n",
            "3           1   0   0  8  0  0   7\n",
            "4           3   0   0  2  7  0  11\n",
            "5           2   0   0  1  0  5   5\n",
            "6           0   0   0  1  0  0  51\n",
            "\n",
            "acc = 0.695 \n",
            "precision = 0.785 \n",
            "recall = 0.695 \n",
            "f1 = 0.678\n"
          ],
          "name": "stdout"
        }
      ]
    },
    {
      "cell_type": "markdown",
      "metadata": {
        "id": "hqh8w6aB_1qP"
      },
      "source": [
        "#### 5) 결과 분석 및 소감"
      ]
    },
    {
      "cell_type": "markdown",
      "metadata": {
        "id": "bCN-ci_9-Jub"
      },
      "source": [
        "* human model과 chimp model은 각각 acc 기준으로 0.98, 0.91 이라는 높은 정확도를 보여주었습니다.\n",
        "\n",
        "* 하지만 dog model은 0.69 라는 비교적 낮은 수치의 정확도를 기록했습니다.\n",
        "\n",
        "* 이러한 차이가 발생한 것은 각 모델마다 사용된 데이터의 양이 다르기 때문이라 생각합니다.\n",
        "\n",
        "* 가장 높은 성능을 보인 human model은 3500개, 그 다음인 chimp model은 1350개, 가장 낮은 dog model은 650개의 훈련 데이터셋을 가졌습니다. \n",
        "\n",
        "* 훈련 데이터의 부족으로 인한 underfitting 이 낮은 performance 로 이어진 것으로 생각되며, 데이터만 충분히 확보된다면 보다 높은 performance 를 보일 것으로 예상합니다.\n"
      ]
    },
    {
      "cell_type": "markdown",
      "metadata": {
        "id": "on6ARS6zASmX"
      },
      "source": [
        "* NLP를 DNA Sequencing 에 활용한다는 아이디어가 새롭게 다가왔고, 높은 성능을 보여서 더 놀라웠습니다. \n",
        "\n",
        "* \"k-mer counting\" 의 컨셉이 N-gram 언어 모델에서 사용한 n-gram 의 개념과 상당히 유사하다고 느꼈습니다.\n",
        "\n",
        "* NLP에서 유용했던 또다른 개념들 혹은 모델들이 유용하게 활용될 수 있을지 더 알아보고 싶다는 생각도 들었습니다."
      ]
    },
    {
      "cell_type": "code",
      "metadata": {
        "id": "XZzL80biBXte"
      },
      "source": [
        ""
      ],
      "execution_count": null,
      "outputs": []
    }
  ]
}
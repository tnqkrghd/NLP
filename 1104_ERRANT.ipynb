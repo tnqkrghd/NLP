{
  "nbformat": 4,
  "nbformat_minor": 0,
  "metadata": {
    "colab": {
      "name": "ERRANT.ipynb",
      "provenance": [],
      "authorship_tag": "ABX9TyPB5DLRp90CSzD/sRDowR7P",
      "include_colab_link": true
    },
    "kernelspec": {
      "name": "python3",
      "display_name": "Python 3"
    },
    "language_info": {
      "name": "python"
    }
  },
  "cells": [
    {
      "cell_type": "markdown",
      "metadata": {
        "id": "view-in-github",
        "colab_type": "text"
      },
      "source": [
        "<a href=\"https://colab.research.google.com/github/tnqkrghd/NLP/blob/main/1104_ERRANT.ipynb\" target=\"_parent\"><img src=\"https://colab.research.google.com/assets/colab-badge.svg\" alt=\"Open In Colab\"/></a>"
      ]
    },
    {
      "cell_type": "code",
      "metadata": {
        "colab": {
          "base_uri": "https://localhost:8080/"
        },
        "id": "zPZ9rHO-Hb-9",
        "outputId": "e51c0ddf-bc7e-4c07-9ee5-0a07e35cad06"
      },
      "source": [
        "pip install errant"
      ],
      "execution_count": 2,
      "outputs": [
        {
          "output_type": "stream",
          "name": "stdout",
          "text": [
            "Collecting errant\n",
            "  Downloading errant-2.3.0-py3-none-any.whl (499 kB)\n",
            "\u001b[K     |████████████████████████████████| 499 kB 4.1 MB/s \n",
            "\u001b[?25hRequirement already satisfied: spacy<3,>=2.2.0 in /usr/local/lib/python3.7/dist-packages (from errant) (2.2.4)\n",
            "Collecting python-Levenshtein>=0.12.0\n",
            "  Downloading python-Levenshtein-0.12.2.tar.gz (50 kB)\n",
            "\u001b[K     |████████████████████████████████| 50 kB 5.7 MB/s \n",
            "\u001b[?25hRequirement already satisfied: setuptools in /usr/local/lib/python3.7/dist-packages (from python-Levenshtein>=0.12.0->errant) (57.4.0)\n",
            "Requirement already satisfied: numpy>=1.15.0 in /usr/local/lib/python3.7/dist-packages (from spacy<3,>=2.2.0->errant) (1.19.5)\n",
            "Requirement already satisfied: tqdm<5.0.0,>=4.38.0 in /usr/local/lib/python3.7/dist-packages (from spacy<3,>=2.2.0->errant) (4.62.3)\n",
            "Requirement already satisfied: blis<0.5.0,>=0.4.0 in /usr/local/lib/python3.7/dist-packages (from spacy<3,>=2.2.0->errant) (0.4.1)\n",
            "Requirement already satisfied: cymem<2.1.0,>=2.0.2 in /usr/local/lib/python3.7/dist-packages (from spacy<3,>=2.2.0->errant) (2.0.5)\n",
            "Requirement already satisfied: requests<3.0.0,>=2.13.0 in /usr/local/lib/python3.7/dist-packages (from spacy<3,>=2.2.0->errant) (2.23.0)\n",
            "Requirement already satisfied: catalogue<1.1.0,>=0.0.7 in /usr/local/lib/python3.7/dist-packages (from spacy<3,>=2.2.0->errant) (1.0.0)\n",
            "Requirement already satisfied: murmurhash<1.1.0,>=0.28.0 in /usr/local/lib/python3.7/dist-packages (from spacy<3,>=2.2.0->errant) (1.0.5)\n",
            "Requirement already satisfied: wasabi<1.1.0,>=0.4.0 in /usr/local/lib/python3.7/dist-packages (from spacy<3,>=2.2.0->errant) (0.8.2)\n",
            "Requirement already satisfied: preshed<3.1.0,>=3.0.2 in /usr/local/lib/python3.7/dist-packages (from spacy<3,>=2.2.0->errant) (3.0.5)\n",
            "Requirement already satisfied: plac<1.2.0,>=0.9.6 in /usr/local/lib/python3.7/dist-packages (from spacy<3,>=2.2.0->errant) (1.1.3)\n",
            "Requirement already satisfied: thinc==7.4.0 in /usr/local/lib/python3.7/dist-packages (from spacy<3,>=2.2.0->errant) (7.4.0)\n",
            "Requirement already satisfied: srsly<1.1.0,>=1.0.2 in /usr/local/lib/python3.7/dist-packages (from spacy<3,>=2.2.0->errant) (1.0.5)\n",
            "Requirement already satisfied: importlib-metadata>=0.20 in /usr/local/lib/python3.7/dist-packages (from catalogue<1.1.0,>=0.0.7->spacy<3,>=2.2.0->errant) (4.8.1)\n",
            "Requirement already satisfied: typing-extensions>=3.6.4 in /usr/local/lib/python3.7/dist-packages (from importlib-metadata>=0.20->catalogue<1.1.0,>=0.0.7->spacy<3,>=2.2.0->errant) (3.7.4.3)\n",
            "Requirement already satisfied: zipp>=0.5 in /usr/local/lib/python3.7/dist-packages (from importlib-metadata>=0.20->catalogue<1.1.0,>=0.0.7->spacy<3,>=2.2.0->errant) (3.6.0)\n",
            "Requirement already satisfied: idna<3,>=2.5 in /usr/local/lib/python3.7/dist-packages (from requests<3.0.0,>=2.13.0->spacy<3,>=2.2.0->errant) (2.10)\n",
            "Requirement already satisfied: chardet<4,>=3.0.2 in /usr/local/lib/python3.7/dist-packages (from requests<3.0.0,>=2.13.0->spacy<3,>=2.2.0->errant) (3.0.4)\n",
            "Requirement already satisfied: urllib3!=1.25.0,!=1.25.1,<1.26,>=1.21.1 in /usr/local/lib/python3.7/dist-packages (from requests<3.0.0,>=2.13.0->spacy<3,>=2.2.0->errant) (1.24.3)\n",
            "Requirement already satisfied: certifi>=2017.4.17 in /usr/local/lib/python3.7/dist-packages (from requests<3.0.0,>=2.13.0->spacy<3,>=2.2.0->errant) (2021.5.30)\n",
            "Building wheels for collected packages: python-Levenshtein\n",
            "  Building wheel for python-Levenshtein (setup.py) ... \u001b[?25l\u001b[?25hdone\n",
            "  Created wheel for python-Levenshtein: filename=python_Levenshtein-0.12.2-cp37-cp37m-linux_x86_64.whl size=149862 sha256=26a22fa3f0fcecfe0bb3b123b84e0476c03ea65bcdef3b173af90d23695d11b3\n",
            "  Stored in directory: /root/.cache/pip/wheels/05/5f/ca/7c4367734892581bb5ff896f15027a932c551080b2abd3e00d\n",
            "Successfully built python-Levenshtein\n",
            "Installing collected packages: python-Levenshtein, errant\n",
            "Successfully installed errant-2.3.0 python-Levenshtein-0.12.2\n"
          ]
        }
      ]
    },
    {
      "cell_type": "code",
      "metadata": {
        "colab": {
          "base_uri": "https://localhost:8080/"
        },
        "id": "Sv74xcD6Hj5y",
        "outputId": "5dac41c8-6dbe-42e1-d0f7-2e625c1d795f"
      },
      "source": [
        "import errant\n",
        "\n",
        "annotator = errant.load('en')\n",
        "orig = annotator.parse('This are gramamtical sentence .')\n",
        "cor = annotator.parse('This is a grammatical sentence .')\n",
        "edits = annotator.annotate(orig, cor)\n",
        "\n",
        "for e in edits:\n",
        "  print(e.o_start, e.o_end, e.o_str, e.c_start, e.c_end, e.c_str, e.type)"
      ],
      "execution_count": 4,
      "outputs": [
        {
          "output_type": "stream",
          "name": "stdout",
          "text": [
            "1 2 are 1 2 is R:VERB:SVA\n",
            "2 2  2 3 a M:DET\n",
            "2 3 gramamtical 3 4 grammatical R:SPELL\n"
          ]
        }
      ]
    },
    {
      "cell_type": "code",
      "metadata": {
        "id": "5sll6H3VIiVW"
      },
      "source": [
        "samples = [ \n",
        "\"I offered a job, but I refused it .\",\n",
        "\"The 2017 Nobel Prize in Economics awarded to American economist Richard Thaler .\"\n",
        "\"A special vegetarian breakfast was cooked to us .\",\n",
        "\"If you use a digital camera, you don't need to have the film develop .\",\n",
        "\"I'm pleasing that I have enough clothes with me .\",\n",
        "\"By some estimates, deforestation has been resulted in the loss of as much as eighty percent of the natural forests of the world .\"\n",
        "]\n",
        "\n",
        "answers = [\n",
        "\"I was offered a job, but I refused it .\",\n",
        "\"The 2017 Nobel Prize in Economics was awarded to American economist Richard Thaler .\"\n",
        "\"A special vegetarian breakfast was cooked for us .\",\n",
        "\"If you use a digital camera, you don't need to have the film developed .\",\n",
        "\"I'm pleased that I have enough clothes with me .\",\n",
        "\"By some estimates, deforestation has resulted in the loss of as much as eighty percent of the natural forests of the world .\"\n",
        "]"
      ],
      "execution_count": 7,
      "outputs": []
    },
    {
      "cell_type": "code",
      "metadata": {
        "colab": {
          "base_uri": "https://localhost:8080/"
        },
        "id": "YQpbUlqgJgQr",
        "outputId": "008a368c-42eb-4222-b2d4-bc486a306cc9"
      },
      "source": [
        "annotator = errant.load('en')\n",
        "\n",
        "n = len(samples)\n",
        "\n",
        "for i in range(n):\n",
        "  print('\\n<', i, '번 문장 >')\n",
        "  print('수정 전 :', samples[i])\n",
        "  print('수정 후 :', answers[i])\n",
        "  ori = annotator.parse(samples[i])\n",
        "  cor = annotator.parse(answers[i])\n",
        "  edits = annotator.annotate(ori, cor)\n",
        "\n",
        "  for e in edits:\n",
        "    print(e.o_start, e.o_end, e.o_str, e.c_start, e.c_end, e.c_str, e.type)"
      ],
      "execution_count": 15,
      "outputs": [
        {
          "output_type": "stream",
          "name": "stdout",
          "text": [
            "\n",
            "< 0 번 문장 >\n",
            "수정 전 : I offered a job, but I refused it .\n",
            "수정 후 : I was offered a job, but I refused it .\n",
            "1 1  1 2 was M:VERB:TENSE\n",
            "\n",
            "< 1 번 문장 >\n",
            "수정 전 : The 2017 Nobel Prize in Economics awarded to American economist Richard Thaler .A special vegetarian breakfast was cooked to us .\n",
            "수정 후 : The 2017 Nobel Prize in Economics was awarded to American economist Richard Thaler .A special vegetarian breakfast was cooked for us .\n",
            "6 6  6 7 was M:VERB:TENSE\n",
            "18 19 to 19 20 for R:PREP\n",
            "\n",
            "< 2 번 문장 >\n",
            "수정 전 : If you use a digital camera, you don't need to have the film develop .\n",
            "수정 후 : If you use a digital camera, you don't need to have the film developed .\n",
            "13 14 develop 13 14 developed R:VERB:FORM\n",
            "\n",
            "< 3 번 문장 >\n",
            "수정 전 : I'm pleasing that I have enough clothes with me .\n",
            "수정 후 : I'm pleased that I have enough clothes with me .\n",
            "1 2 pleasing 1 2 pleased R:VERB:FORM\n",
            "\n",
            "< 4 번 문장 >\n",
            "수정 전 : By some estimates, deforestation has been resulted in the loss of as much as eighty percent of the natural forests of the world .\n",
            "수정 후 : By some estimates, deforestation has resulted in the loss of as much as eighty percent of the natural forests of the world .\n",
            "5 6 been 5 5  U:VERB:TENSE\n"
          ]
        }
      ]
    }
  ]
}
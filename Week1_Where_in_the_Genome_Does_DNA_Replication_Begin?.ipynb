{
  "nbformat": 4,
  "nbformat_minor": 0,
  "metadata": {
    "colab": {
      "name": "Week1. Where in the Genome Does DNA Replication Begin?.ipynb",
      "provenance": [],
      "authorship_tag": "ABX9TyM+b7cHvWa6jTNp4yBWRR6P",
      "include_colab_link": true
    },
    "kernelspec": {
      "name": "python3",
      "display_name": "Python 3"
    },
    "language_info": {
      "name": "python"
    }
  },
  "cells": [
    {
      "cell_type": "markdown",
      "metadata": {
        "id": "view-in-github",
        "colab_type": "text"
      },
      "source": [
        "<a href=\"https://colab.research.google.com/github/tnqkrghd/NLP/blob/main/Week1_Where_in_the_Genome_Does_DNA_Replication_Begin%3F.ipynb\" target=\"_parent\"><img src=\"https://colab.research.google.com/assets/colab-badge.svg\" alt=\"Open In Colab\"/></a>"
      ]
    },
    {
      "cell_type": "markdown",
      "metadata": {
        "id": "LxIWfBKzorkU"
      },
      "source": [
        "Genome replication\n",
        "\n",
        "* 세포는 분열되기 전에 유전체를 복제하여 2개의 딸 세포 각각에 물려준다.\n",
        "\n",
        "* 부모 DNA 분자의 두 가닥이 복제 과정에서 풀려나고, 각각의 가닥이 새로운 가닥의 합성을 위한 템플릿처럼 사용된다.\n",
        "\n",
        "* 알고리즘의 관점으로, 복제를 어떻게 모방할 것인가?\n",
        "\n",
        "* 복제는 '복제 원점(ori)' 에서 DNA 중합체에 의해 일어난다.\n",
        "\n",
        "* Finding Origin of Replication Problem:\n",
        "  - Input: A DNA string Genome.\n",
        "  - Output: The location of ori in Genome.\n",
        "\n",
        "* Experimental 방식 vs Computational 방식\n",
        "  - 후자가 훨씬 빠름\n",
        "  - 전자의 결과들도 후자적인 분석 없이는 해석될 수 없음\n",
        "  - ori 를 찾는 computational 한 접근은 없을까?\n",
        "\n",
        "* what makes this genomic region special in order to design a computational approach for finding ori in other bacteria\n",
        "\n",
        "*  can you find something that stands out in ori? \n",
        "\n",
        "* Hidden Message Problem: Find a “hidden message” in the replication origin.\n",
        "  - Input: A string Text.\n",
        "  - Output: A hidden message in Text. \n",
        "  - hidden message 가 뭔지에 대한 구체적 명시가 필요함\n",
        "\n",
        "\n"
      ]
    },
    {
      "cell_type": "code",
      "metadata": {
        "colab": {
          "base_uri": "https://localhost:8080/"
        },
        "id": "I_PwbNeDoaqZ",
        "outputId": "4482f5f0-88f6-4727-a6a2-e58fcd6c4145"
      },
      "source": [
        "ori = 'ATCAATGATCAACGTAAGCTTCTAAGCATGATCAAGGTGCTCACACAGTTTATCCACAACCTGAGTGGATGACATCAAGATAGGTCGTTGTATCTCCTTCCTCTCGTACTCTCATGACCACGGAAAGATGATCAAGAGAGGATGATTTCTTGGCCATATCGCAATGAATACTTGTGACTTGTGCTTCCAATTGACATCTTCAGCGCCATATTGCGCTGGCCAAGGTGACGGAGCGGGATTACGAAAGCATGATCATGGCTGTTGTTCTGTTTATCTTGTTTTGACTGAGACTTGTTAGGATAGACGGTTTTTCATCACTGACTAGCCAAAGCCTTACTCTGCCTGACATCGACCGTAAATTGATAATGAATTTACATGCTTCCGCGACGATTTACCTCTTGATCATCGATCCGATTGAAGATCTTCAATTGTTAATTCTCTTGCCTCGACTCATAGCCATGATGAGCTCTTGATCATGTTTCCTTAACCCTCTATTTTTTACGGAAGAATGATCAAGCTGCTGCTCTTGATCATCGTTTC'\n",
        "\n",
        "print(len(ori))"
      ],
      "execution_count": 3,
      "outputs": [
        {
          "output_type": "stream",
          "text": [
            "540\n"
          ],
          "name": "stdout"
        }
      ]
    },
    {
      "cell_type": "markdown",
      "metadata": {
        "id": "XAltzW7QsU-N"
      },
      "source": [
        "Counting Words\n",
        "\n",
        "* Operating under the assumption that DNA is a language of its own, see if we can find any surprisingly frequent “words” within the ori of Vibrio cholerae.\n",
        "\n",
        "* We use the term k-mer for a string of length k and define PatternCount(Pattern, Text) as the number of times that a k-mer Pattern appears as a substring of Text. Following the above example,\n",
        "\n",
        "- PatternCount(\"ACAACTATGCATACTATCGGGAACTATCCT\", \"ACTAT\", ) = 3."
      ]
    },
    {
      "cell_type": "code",
      "metadata": {
        "id": "koNKnqAvrgQO"
      },
      "source": [
        "def PatternCount(Text, Pattern):\n",
        "  count = 0\n",
        "  for i in range(len(Text) - len(Pattern) + 1):\n",
        "    if Text[i:i+len(Pattern)] == Pattern:\n",
        "      count += 1\n",
        "  return count"
      ],
      "execution_count": 4,
      "outputs": []
    },
    {
      "cell_type": "code",
      "metadata": {
        "colab": {
          "base_uri": "https://localhost:8080/"
        },
        "id": "R3DVIwZ2uet1",
        "outputId": "f8045e2e-c2eb-4542-80ef-a9d2421cf36a"
      },
      "source": [
        "PatternCount(\"ACAACTATGCATACTATCGGGAACTATCCT\", \"ACTAT\")"
      ],
      "execution_count": 8,
      "outputs": [
        {
          "output_type": "execute_result",
          "data": {
            "text/plain": [
              "3"
            ]
          },
          "metadata": {},
          "execution_count": 8
        }
      ]
    },
    {
      "cell_type": "code",
      "metadata": {
        "colab": {
          "base_uri": "https://localhost:8080/"
        },
        "id": "J0GFydpduhbk",
        "outputId": "d809cc23-26d0-4c7d-88bd-4d457cc200e5"
      },
      "source": [
        "Text = \"ATCAATGATCAACGTAAGCTTCTAAGCATGATCAAGGTGCTCACACAGTTTATCCACAACCTGAGTGGATGACATCAAGATAGGTCGTTGTATCTCCTTCCTCTCGTACTCTCATGACCACGGAAAGATGATCAAGAGAGGATGATTTCTTGGCCATATCGCAATGAATACTTGTGACTTGTGCTTCCAATTGACATCTTCAGCGCCATATTGCGCTGGCCAAGGTGACGGAGCGGGATTACGAAAGCATGATCATGGCTGTTGTTCTGTTTATCTTGTTTTGACTGAGACTTGTTAGGATAGACGGTTTTTCATCACTGACTAGCCAAAGCCTTACTCTGCCTGACATCGACCGTAAATTGATAATGAATTTACATGCTTCCGCGACGATTTACCTCTTGATCATCGATCCGATTGAAGATCTTCAATTGTTAATTCTCTTGCCTCGACTCATAGCCATGATGAGCTCTTGATCATGTTTCCTTAACCCTCTATTTTTTACGGAAGAATGATCAAGCTGCTGCTCTTGATCATCGTTTC\"\n",
        "Pattern = \"TGATCA\"\n",
        "\n",
        "PatternCount(ori, Pattern)"
      ],
      "execution_count": 10,
      "outputs": [
        {
          "output_type": "execute_result",
          "data": {
            "text/plain": [
              "8"
            ]
          },
          "metadata": {},
          "execution_count": 10
        }
      ]
    },
    {
      "cell_type": "code",
      "metadata": {
        "id": "rOusUeYswSLs"
      },
      "source": [
        "# Exercise Break (1 point): Find the most frequent 2-mer of \"GATCCAGATCCCCATAC\". \n",
        "# (You should solve this exercise by hand.)\n",
        "\n",
        "text = \"GATCCAGATCCCCATAC\"\n",
        "\n",
        "pat = []\n",
        "for i in range(len(text)-1):\n",
        "  pat.append(text[i:i+2])"
      ],
      "execution_count": 13,
      "outputs": []
    },
    {
      "cell_type": "code",
      "metadata": {
        "colab": {
          "base_uri": "https://localhost:8080/"
        },
        "id": "D5A3PzH_w62F",
        "outputId": "dcbbda5a-56ba-4251-f8cd-87c996105ae0"
      },
      "source": [
        "count = {}\n",
        "\n",
        "for i in pat:\n",
        "  if count.get(i) == None:\n",
        "    count[i] = 1\n",
        "  else:\n",
        "    count[i] +=1\n",
        "\n",
        "count"
      ],
      "execution_count": 16,
      "outputs": [
        {
          "output_type": "execute_result",
          "data": {
            "text/plain": [
              "{'AC': 1, 'AG': 1, 'AT': 3, 'CA': 2, 'CC': 4, 'GA': 2, 'TA': 1, 'TC': 2}"
            ]
          },
          "metadata": {},
          "execution_count": 16
        }
      ]
    },
    {
      "cell_type": "code",
      "metadata": {
        "colab": {
          "base_uri": "https://localhost:8080/"
        },
        "id": "-BYZDtxMxJ2u",
        "outputId": "7c8d6e26-a88e-422d-84ba-84c4d72d3090"
      },
      "source": [
        "from collections import Counter\n",
        "\n",
        "Counter(pat).most_common()"
      ],
      "execution_count": 24,
      "outputs": [
        {
          "output_type": "execute_result",
          "data": {
            "text/plain": [
              "[('CC', 4),\n",
              " ('AT', 3),\n",
              " ('GA', 2),\n",
              " ('TC', 2),\n",
              " ('CA', 2),\n",
              " ('AG', 1),\n",
              " ('TA', 1),\n",
              " ('AC', 1)]"
            ]
          },
          "metadata": {},
          "execution_count": 24
        }
      ]
    },
    {
      "cell_type": "markdown",
      "metadata": {
        "id": "Tlk05k4nzRhr"
      },
      "source": [
        "* Frequent Words Problem:  Find the most frequent k-mers in a string.\n",
        "  - Input: A string Text and an integer k\n",
        "  - Output: All most frequent k-mers in Text."
      ]
    },
    {
      "cell_type": "code",
      "metadata": {
        "id": "PtH6ztQ7yT03"
      },
      "source": [
        "def FrequencyMap(Text, k):\n",
        "    freq = {}\n",
        "    n = len(Text)\n",
        "    for i in range(n-k+1):\n",
        "        Pattern = Text[i:i+k]\n",
        "        freq[Pattern] = freq.get(Pattern, 0) + 1\n",
        "    return freq"
      ],
      "execution_count": 36,
      "outputs": []
    },
    {
      "cell_type": "code",
      "metadata": {
        "colab": {
          "base_uri": "https://localhost:8080/"
        },
        "id": "Usd0fwTHzxCP",
        "outputId": "5020e7e5-2057-443f-a03f-6ec594cab6d1"
      },
      "source": [
        "FrequencyMap('CGATATATCCATAG', 3)"
      ],
      "execution_count": 37,
      "outputs": [
        {
          "output_type": "execute_result",
          "data": {
            "text/plain": [
              "{'ATA': 3,\n",
              " 'ATC': 1,\n",
              " 'CAT': 1,\n",
              " 'CCA': 1,\n",
              " 'CGA': 1,\n",
              " 'GAT': 1,\n",
              " 'TAG': 1,\n",
              " 'TAT': 2,\n",
              " 'TCC': 1}"
            ]
          },
          "metadata": {},
          "execution_count": 37
        }
      ]
    },
    {
      "cell_type": "code",
      "metadata": {
        "colab": {
          "base_uri": "https://localhost:8080/"
        },
        "id": "Wl6uwwIU081a",
        "outputId": "e29a3cc9-a0a9-4a5f-dbed-0e4640507753"
      },
      "source": [
        "count.values()"
      ],
      "execution_count": 30,
      "outputs": [
        {
          "output_type": "execute_result",
          "data": {
            "text/plain": [
              "dict_values([2, 3, 2, 4, 2, 1, 1, 1])"
            ]
          },
          "metadata": {},
          "execution_count": 30
        }
      ]
    },
    {
      "cell_type": "code",
      "metadata": {
        "id": "JL9NmuOB1Q25"
      },
      "source": [
        "def FrequentWords(Text, k):\n",
        "  words = []\n",
        "  freq = FrequencyMap(Text, k)\n",
        "  m = max(freq.values())\n",
        "  for key in freq:\n",
        "    if freq[key] == m:\n",
        "      words.append(key)\n",
        "  return words"
      ],
      "execution_count": 31,
      "outputs": []
    },
    {
      "cell_type": "code",
      "metadata": {
        "colab": {
          "base_uri": "https://localhost:8080/"
        },
        "id": "_3ougJPn1xmG",
        "outputId": "1aa41571-3c57-4fae-d974-6b0106d8d26b"
      },
      "source": [
        "FrequentWords('ACGTTGCATGTCGCATGATGCATGAGAGCT', 4)"
      ],
      "execution_count": 38,
      "outputs": [
        {
          "output_type": "execute_result",
          "data": {
            "text/plain": [
              "['GCAT', 'CATG']"
            ]
          },
          "metadata": {},
          "execution_count": 38
        }
      ]
    },
    {
      "cell_type": "code",
      "metadata": {
        "colab": {
          "base_uri": "https://localhost:8080/"
        },
        "id": "r_YKRfnJ12Y0",
        "outputId": "a506b6a7-e878-4d81-b8fc-7d8bd030f23f"
      },
      "source": [
        "# Exercise Break (1 point): Apply your solution to the Frequent Words Problem if Text is the oriC of Vibrio cholerae (click here to download) and k = 10. \n",
        "# What are the most frequent words?\n",
        "\n",
        "Vibrio_cholerae = 'ATCAATGATCAACGTAAGCTTCTAAGCATGATCAAGGTGCTCACACAGTTTATCCACAACCTGAGTGGATGACATCAAGATAGGTCGTTGTATCTCCTTCCTCTCGTACTCTCATGACCACGGAAAGATGATCAAGAGAGGATGATTTCTTGGCCATATCGCAATGAATACTTGTGACTTGTGCTTCCAATTGACATCTTCAGCGCCATATTGCGCTGGCCAAGGTGACGGAGCGGGATTACGAAAGCATGATCATGGCTGTTGTTCTGTTTATCTTGTTTTGACTGAGACTTGTTAGGATAGACGGTTTTTCATCACTGACTAGCCAAAGCCTTACTCTGCCTGACATCGACCGTAAATTGATAATGAATTTACATGCTTCCGCGACGATTTACCTCTTGATCATCGATCCGATTGAAGATCTTCAATTGTTAATTCTCTTGCCTCGACTCATAGCCATGATGAGCTCTTGATCATGTTTCCTTAACCCTCTATTTTTTACGGAAGAATGATCAAGCTGCTGCTCTTGATCATCGTTTC'\n",
        "\n",
        "FrequentWords(Vibrio_cholerae, 10)"
      ],
      "execution_count": 42,
      "outputs": [
        {
          "output_type": "execute_result",
          "data": {
            "text/plain": [
              "['CTCTTGATCA', 'TCTTGATCAT']"
            ]
          },
          "metadata": {},
          "execution_count": 42
        }
      ]
    },
    {
      "cell_type": "markdown",
      "metadata": {
        "id": "qzf_YJNt4OB6"
      },
      "source": [
        "* We highlight a most frequent 9-mer instead of using some other value of k because experiments have revealed that bacterial DnaA boxes are usually 9 nucleotides long.\n",
        "\n",
        "* The low likelihood of witnessing even one repeated 9-mer in the ori region of Vibrio cholerae leads us to the working hypothesis that one of these four 9-mers may represent a potential DnaA box that, when appearing multiple times in a short region, jump-starts replication. But which one?"
      ]
    },
    {
      "cell_type": "markdown",
      "metadata": {
        "id": "f-kijT7T8nRr"
      },
      "source": [
        "Reverse Complement Problem: Find the reverse complement of a DNA string.\n",
        "  - Input: A DNA string Pattern.\n",
        "  - Output: The reverse complement of Pattern."
      ]
    },
    {
      "cell_type": "code",
      "metadata": {
        "id": "tjo2Bnl43XAl"
      },
      "source": [
        "# top-down programming\n",
        "# ReverseComplement -> Reverse / Complement\n",
        "\n",
        "def ReverseComplement(Pattern):\n",
        "  Pattern = Reverse(Pattern)\n",
        "  Pattern = Complement(Pattern)\n",
        "\n",
        "  return Pattern"
      ],
      "execution_count": 43,
      "outputs": []
    },
    {
      "cell_type": "code",
      "metadata": {
        "colab": {
          "base_uri": "https://localhost:8080/",
          "height": 34
        },
        "id": "Y_hiFbOB9-KU",
        "outputId": "4caf6393-f02d-4fde-cb27-a1374fda556e"
      },
      "source": [
        "def Reverse(Pattern):\n",
        "  string = \"\"\n",
        "  for x in Pattern:\n",
        "    string = x + string \n",
        "  \n",
        "  return string\n",
        "\n",
        "Reverse('apple')"
      ],
      "execution_count": 44,
      "outputs": [
        {
          "output_type": "execute_result",
          "data": {
            "application/vnd.google.colaboratory.intrinsic+json": {
              "type": "string"
            },
            "text/plain": [
              "'elppa'"
            ]
          },
          "metadata": {},
          "execution_count": 44
        }
      ]
    },
    {
      "cell_type": "code",
      "metadata": {
        "colab": {
          "base_uri": "https://localhost:8080/",
          "height": 34
        },
        "id": "Pe7Qxb-Q-Mq6",
        "outputId": "7cb3b60e-5cb5-438b-ae81-12879c7297c8"
      },
      "source": [
        "def Complement(Pattern):\n",
        "  string = \"\"\n",
        "  for x in Pattern:\n",
        "    if x == \"A\":\n",
        "      string += \"T\"\n",
        "    elif x == \"C\":\n",
        "      string += \"G\"\n",
        "    elif x == \"G\":\n",
        "      string += \"C\"\n",
        "    else:\n",
        "      string += \"A\"\n",
        "  return string\n",
        "\n",
        "Complement(\"AAAACCCGGT\")"
      ],
      "execution_count": 47,
      "outputs": [
        {
          "output_type": "execute_result",
          "data": {
            "application/vnd.google.colaboratory.intrinsic+json": {
              "type": "string"
            },
            "text/plain": [
              "'TTTTGGGCCA'"
            ]
          },
          "metadata": {},
          "execution_count": 47
        }
      ]
    },
    {
      "cell_type": "code",
      "metadata": {
        "colab": {
          "base_uri": "https://localhost:8080/",
          "height": 34
        },
        "id": "8MPMfGsr_7ul",
        "outputId": "1c93551e-8116-419b-a447-86087458d17e"
      },
      "source": [
        "def Complement_dict(Pattern):\n",
        "  pairs = {\"A\":\"T\", \"G\":\"C\", \"T\":\"A\", \"C\":\"G\"}\n",
        "  string = \"\"\n",
        "\n",
        "  for x in Pattern:\n",
        "    string += pairs.get(x)\n",
        "  return string\n",
        "\n",
        "Complement_dict(\"AAAACCCGGT\")"
      ],
      "execution_count": 49,
      "outputs": [
        {
          "output_type": "execute_result",
          "data": {
            "application/vnd.google.colaboratory.intrinsic+json": {
              "type": "string"
            },
            "text/plain": [
              "'TTTTGGGCCA'"
            ]
          },
          "metadata": {},
          "execution_count": 49
        }
      ]
    },
    {
      "cell_type": "markdown",
      "metadata": {
        "id": "pzNWADtbCF4w"
      },
      "source": [
        "\n",
        "* Finding a 9-mer that appears six or more times (either as itself or as its reverse complement) in a DNA string of length 500 is far more surprising than finding a 9-mer that appears three or more times alone. This statistical evidence leads us to the working hypothesis that \"ATGATCAAG\" and its reverse complement \"CTTGATCAT\" indeed represent DnaA boxes in Vibrio cholerae."
      ]
    },
    {
      "cell_type": "markdown",
      "metadata": {
        "id": "ibt_0BesCW-y"
      },
      "source": [
        "* Pattern Matching Problem:  Find all occurrences of a pattern in a string.\n",
        "  - Input: Strings Pattern and Genome\n",
        "  - Output: All starting positions in Genome where Pattern appears as a substring."
      ]
    },
    {
      "cell_type": "code",
      "metadata": {
        "id": "PAcQXYZvAmWw"
      },
      "source": [
        "def PatternMatching(Pattern, Genome):\n",
        "  positions = []\n",
        "  k = len(Pattern)\n",
        "  n = len(Genome)\n",
        "\n",
        "  for i in range(n-k+1):\n",
        "    pat = Genome[i:i+k]\n",
        "    if pat == Pattern:\n",
        "      positions.append(i)\n",
        "\n",
        "  return positions"
      ],
      "execution_count": 50,
      "outputs": []
    },
    {
      "cell_type": "code",
      "metadata": {
        "colab": {
          "base_uri": "https://localhost:8080/"
        },
        "id": "uyll0_gEDkFq",
        "outputId": "d19eeda4-d58d-41d7-86ae-cb7c1c192e5d"
      },
      "source": [
        "PatternMatching(\"ATAT\", \"GATATATGCATATACTT\")"
      ],
      "execution_count": 51,
      "outputs": [
        {
          "output_type": "execute_result",
          "data": {
            "text/plain": [
              "[1, 3, 9]"
            ]
          },
          "metadata": {},
          "execution_count": 51
        }
      ]
    },
    {
      "cell_type": "code",
      "metadata": {
        "colab": {
          "base_uri": "https://localhost:8080/"
        },
        "id": "UqdrMsLwDpmV",
        "outputId": "2270ccb0-4796-4929-ac2a-d17540f23059"
      },
      "source": [
        "# Copy your PatternCount function below here\n",
        "def PatternCount(Text, Pattern):\n",
        "  count = 0\n",
        "  for i in range(len(Text) - len(Pattern) + 1):\n",
        "    if Text[i:i+len(Pattern)] == Pattern:\n",
        "      count += 1\n",
        "  return count\n",
        "\n",
        "# On the following line, create a variable called Text that is equal to the oriC region from T petrophila\n",
        "Text = \"AACTCTATACCTCCTTTTTGTCGAATTTGTGTGATTTATAGAGAAAATCTTATTAACTGAAACTAAAATGGTAGGTTTGGTGGTAGGTTTTGTGTACATTTTGTAGTATCTGATTTTTAATTACATACCGTATATTGTATTAAATTGACGAACAATTGCATGGAATTGAATATATGCAAAACAAACCTACCACCAAACTCTGTATTGACCATTTTAGGACAACTTCAGGGTGGTAGGTTTCTGAAGCTCTCATCAATAGACTATTTTAGTCTTTACAAACAATATTACCGTTCAGATTCAAGATTCTACAACGCTGTTTTAATGGGCGTTGCAGAAAACTTACCACCTAAAATCCAGTATCCAAGCCGATTTCAGAGAAACCTACCACTTACCTACCACTTACCTACCACCCGGGTGGTAAGTTGCAGACATTATTAAAAACCTCATCAGAAGCTTGTTCAAAAATTTCAATACTCGAAACCTACCACCTGCGTCCCCTATTATTTACTACTACTAATAATAGCAGTATAATTGATCTGA\"\n",
        "\n",
        "\n",
        "# On the following line, create a variable called count_1 that is equal to the number of times\n",
        "# that \"ATGATCAAG\" occurs in Text.\n",
        "count1 = PatternCount(Text, \"ATGATCAAG\")\n",
        "\n",
        "\n",
        "# On the following line, create a variable called count_2 that is equal to the number of times\n",
        "# that \"CTTGATCAT\" occurs in Text. \n",
        "count2 = PatternCount(Text, \"CTTGATCAT\")\n",
        "\n",
        "\n",
        "\n",
        "# Finally, print the sum of count_1 and count_2\n",
        "print(count1+count2)"
      ],
      "execution_count": 52,
      "outputs": [
        {
          "output_type": "stream",
          "text": [
            "0\n"
          ],
          "name": "stdout"
        }
      ]
    },
    {
      "cell_type": "markdown",
      "metadata": {
        "id": "aF1k4k09F85C"
      },
      "source": [
        "This region does not contain a single occurrence of \"ATGATCAAG\" or \"CTTGATCAT\"! Thus, different bacteria may use different DnaA boxes as “hidden messages” to the DnaA protein."
      ]
    },
    {
      "cell_type": "markdown",
      "metadata": {
        "id": "exyiYjfLGSVZ"
      },
      "source": [
        "The Clump Finding Problem\n",
        "\n",
        "* instead of finding clumps of a specific k-mer, let’s try to find every k-mer that forms a clump in the genome. Hopefully, the locations of these clumps will shed light on the location of ori.\n",
        "\n",
        "* Clump Finding Problem:  Find patterns forming clumps in a string.\n",
        "  - Input: A string Genome, and integers k, L, and t.\n",
        "  - Output: All distinct k-mers forming (L, t)-clumps in Genome."
      ]
    },
    {
      "cell_type": "markdown",
      "metadata": {
        "id": "0irxI6uqHQ36"
      },
      "source": [
        ""
      ]
    },
    {
      "cell_type": "code",
      "metadata": {
        "id": "w0vmmiw3F8Mj"
      },
      "source": [
        ""
      ],
      "execution_count": null,
      "outputs": []
    },
    {
      "cell_type": "markdown",
      "metadata": {
        "id": "7O8sdp9KGWl-"
      },
      "source": [
        ""
      ]
    }
  ]
}